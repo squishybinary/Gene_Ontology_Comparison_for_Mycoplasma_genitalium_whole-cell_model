{
 "cells": [
  {
   "cell_type": "markdown",
   "metadata": {},
   "source": [
    "Based off of this answer: https://stackoverflow.com/questions/12065885/filter-dataframe-rows-if-value-in-column-is-in-a-set-list-of-values"
   ]
  },
  {
   "cell_type": "markdown",
   "metadata": {},
   "source": [
    "Read in the baseline data (259 Genes with 346 GO IDs)"
   ]
  },
  {
   "cell_type": "code",
   "execution_count": 1,
   "metadata": {},
   "outputs": [
    {
     "data": {
      "text/html": [
       "<div>\n",
       "<style>\n",
       "    .dataframe thead tr:only-child th {\n",
       "        text-align: right;\n",
       "    }\n",
       "\n",
       "    .dataframe thead th {\n",
       "        text-align: left;\n",
       "    }\n",
       "\n",
       "    .dataframe tbody tr th {\n",
       "        vertical-align: top;\n",
       "    }\n",
       "</style>\n",
       "<table border=\"1\" class=\"dataframe\">\n",
       "  <thead>\n",
       "    <tr style=\"text-align: right;\">\n",
       "      <th></th>\n",
       "      <th>GeneID</th>\n",
       "      <th>GOID</th>\n",
       "      <th>GOTerms</th>\n",
       "    </tr>\n",
       "  </thead>\n",
       "  <tbody>\n",
       "    <tr>\n",
       "      <th>342</th>\n",
       "      <td>MG_126</td>\n",
       "      <td>GO:0006436</td>\n",
       "      <td>tryptophanyl-tRNA aminoacylation</td>\n",
       "    </tr>\n",
       "    <tr>\n",
       "      <th>343</th>\n",
       "      <td>MG_455</td>\n",
       "      <td>GO:0006437</td>\n",
       "      <td>tyrosyl-tRNA aminoacylation</td>\n",
       "    </tr>\n",
       "    <tr>\n",
       "      <th>344</th>\n",
       "      <td>MG_030</td>\n",
       "      <td>GO:0044206</td>\n",
       "      <td>UMP salvage</td>\n",
       "    </tr>\n",
       "    <tr>\n",
       "      <th>345</th>\n",
       "      <td>MG_030</td>\n",
       "      <td>GO:0006223</td>\n",
       "      <td>uracil salvage</td>\n",
       "    </tr>\n",
       "    <tr>\n",
       "      <th>346</th>\n",
       "      <td>MG_334</td>\n",
       "      <td>GO:0006438</td>\n",
       "      <td>valyl-tRNA aminoacylation</td>\n",
       "    </tr>\n",
       "  </tbody>\n",
       "</table>\n",
       "</div>"
      ],
      "text/plain": [
       "     GeneID        GOID                           GOTerms\n",
       "342  MG_126  GO:0006436  tryptophanyl-tRNA aminoacylation\n",
       "343  MG_455  GO:0006437       tyrosyl-tRNA aminoacylation\n",
       "344  MG_030  GO:0044206                       UMP salvage\n",
       "345  MG_030  GO:0006223                    uracil salvage\n",
       "346  MG_334  GO:0006438         valyl-tRNA aminoacylation"
      ]
     },
     "execution_count": 1,
     "metadata": {},
     "output_type": "execute_result"
    }
   ],
   "source": [
    "import pandas as pd\n",
    "df = pd.read_csv('GObaseline.txt', sep=\"\\t\")\n",
    "df.tail(5)"
   ]
  },
  {
   "cell_type": "markdown",
   "metadata": {},
   "source": [
    "Read in 12 deletion sets list as a 2D vertical dataframe, convert to lists (without NaN values)."
   ]
  },
  {
   "cell_type": "code",
   "execution_count": 2,
   "metadata": {},
   "outputs": [],
   "source": [
    "df2 = pd.read_csv('12deletionsets.txt', sep=\"\\t\")\n",
    "df2.columns = ['1','2','3','4','5','6','7','8','9','10','11','12']\n",
    "deletionlist1 = df2['1'].values.tolist()\n",
    "deletionlist1 = [x for x in deletionlist1 if str(x) != 'nan']\n",
    "deletionlist2 = df2['2'].values.tolist()\n",
    "deletionlist2 = [x for x in deletionlist2 if str(x) != 'nan']\n",
    "deletionlist3 = df2['3'].values.tolist()\n",
    "deletionlist3 = [x for x in deletionlist3 if str(x) != 'nan']\n",
    "deletionlist4 = df2['4'].values.tolist()\n",
    "deletionlist4 = [x for x in deletionlist4 if str(x) != 'nan']\n",
    "deletionlist5 = df2['5'].values.tolist()\n",
    "deletionlist5 = [x for x in deletionlist5 if str(x) != 'nan']\n",
    "deletionlist6 = df2['6'].values.tolist()\n",
    "deletionlist6 = [x for x in deletionlist6 if str(x) != 'nan']\n",
    "deletionlist7 = df2['7'].values.tolist()\n",
    "deletionlist7 = [x for x in deletionlist7 if str(x) != 'nan']\n",
    "deletionlist8 = df2['8'].values.tolist()\n",
    "deletionlist8 = [x for x in deletionlist8 if str(x) != 'nan']\n",
    "deletionlist9 = df2['9'].values.tolist()\n",
    "deletionlist9 = [x for x in deletionlist9 if str(x) != 'nan']\n",
    "deletionlist10 = df2['10'].values.tolist()\n",
    "deletionlist10 = [x for x in deletionlist10 if str(x) != 'nan']\n",
    "deletionlist11 = df2['11'].values.tolist()\n",
    "deletionlist11 = [x for x in deletionlist11 if str(x) != 'nan']\n",
    "deletionlist12 = df2['12'].values.tolist()\n",
    "deletionlist12 = [x for x in deletionlist12 if str(x) != 'nan']\n",
    "#print(deletionlist1)\n",
    "#print(deletionlist11)\n",
    "#print(deletionlist12)"
   ]
  },
  {
   "cell_type": "markdown",
   "metadata": {},
   "source": [
    "Make a dataframe by comparing the baseline and each of the deletion lists.\n",
    "Those GeneIDs in the baseline AND not in the deletion list are kept in the new list.\n",
    "Export the new list to a CSV."
   ]
  },
  {
   "cell_type": "code",
   "execution_count": 3,
   "metadata": {},
   "outputs": [],
   "source": [
    "dellist1 = df[~df['GeneID'].isin(deletionlist1)]\n",
    "dellist1.to_csv('deletion_1_vsGOBaseline.txt', sep='\\t')"
   ]
  },
  {
   "cell_type": "code",
   "execution_count": 4,
   "metadata": {},
   "outputs": [],
   "source": [
    "dellist2 = df[~df['GeneID'].isin(deletionlist2)].copy()\n",
    "dellist2.to_csv('deletion_2_vsGOBaseline.txt', sep='\\t')"
   ]
  },
  {
   "cell_type": "code",
   "execution_count": 5,
   "metadata": {},
   "outputs": [],
   "source": [
    "dellist3 = df[~df['GeneID'].isin(deletionlist3)].copy()\n",
    "dellist3.to_csv('deletion_3_vsGOBaseline.txt', sep='\\t')"
   ]
  },
  {
   "cell_type": "code",
   "execution_count": 6,
   "metadata": {},
   "outputs": [],
   "source": [
    "dellist4 = df[~df['GeneID'].isin(deletionlist4)].copy()\n",
    "dellist4.to_csv('deletion_4_vsGOBaseline.txt', sep='\\t')"
   ]
  },
  {
   "cell_type": "code",
   "execution_count": 7,
   "metadata": {},
   "outputs": [],
   "source": [
    "dellist5 = df[~df['GeneID'].isin(deletionlist5)].copy()\n",
    "dellist5.to_csv('deletion_5_vsGOBaseline.txt', sep='\\t')"
   ]
  },
  {
   "cell_type": "code",
   "execution_count": 8,
   "metadata": {},
   "outputs": [],
   "source": [
    "dellist6 = df[~df['GeneID'].isin(deletionlist6)].copy()\n",
    "dellist6.to_csv('deletion_6_vsGOBaseline.txt', sep='\\t')"
   ]
  },
  {
   "cell_type": "code",
   "execution_count": 9,
   "metadata": {},
   "outputs": [],
   "source": [
    "dellist7 = df[~df['GeneID'].isin(deletionlist7)].copy()\n",
    "dellist7.to_csv('deletion_7_vsGOBaseline.txt', sep='\\t')"
   ]
  },
  {
   "cell_type": "code",
   "execution_count": 10,
   "metadata": {},
   "outputs": [],
   "source": [
    "dellist8 = df[~df['GeneID'].isin(deletionlist8)].copy()\n",
    "dellist8.to_csv('deletion_8_vsGOBaseline.txt', sep='\\t')"
   ]
  },
  {
   "cell_type": "code",
   "execution_count": 11,
   "metadata": {},
   "outputs": [],
   "source": [
    "dellist9 = df[~df['GeneID'].isin(deletionlist9)].copy()\n",
    "dellist9.to_csv('deletion_9_vsGOBaseline.txt', sep='\\t')"
   ]
  },
  {
   "cell_type": "code",
   "execution_count": 12,
   "metadata": {},
   "outputs": [],
   "source": [
    "dellist10 = df[~df['GeneID'].isin(deletionlist10)].copy()\n",
    "dellist10.to_csv('deletion_10_vsGOBaseline.txt', sep='\\t')"
   ]
  },
  {
   "cell_type": "code",
   "execution_count": 13,
   "metadata": {},
   "outputs": [],
   "source": [
    "dellist11 = df[~df['GeneID'].isin(deletionlist11)].copy()\n",
    "dellist11.to_csv('deletion_11_vsGOBaseline.txt', sep='\\t')"
   ]
  },
  {
   "cell_type": "code",
   "execution_count": 14,
   "metadata": {},
   "outputs": [],
   "source": [
    "dellist12 = df[~df['GeneID'].isin(deletionlist12)].copy()\n",
    "dellist12.to_csv('deletion_12_vsGOBaseline.txt', sep='\\t')"
   ]
  }
 ],
 "metadata": {
  "kernelspec": {
   "display_name": "Python 3.6",
   "language": "python",
   "name": "python36"
  },
  "language_info": {
   "codemirror_mode": {
    "name": "ipython",
    "version": 3
   },
   "file_extension": ".py",
   "mimetype": "text/x-python",
   "name": "python",
   "nbconvert_exporter": "python",
   "pygments_lexer": "ipython3",
   "version": "3.6.3"
  }
 },
 "nbformat": 4,
 "nbformat_minor": 2
}
