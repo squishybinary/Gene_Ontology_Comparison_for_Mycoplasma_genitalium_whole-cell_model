{
 "cells": [
  {
   "cell_type": "markdown",
   "metadata": {},
   "source": [
    "Based off of this answer: https://stackoverflow.com/questions/12065885/filter-dataframe-rows-if-value-in-column-is-in-a-set-list-of-values"
   ]
  },
  {
   "cell_type": "markdown",
   "metadata": {},
   "source": [
    "Read in the baseline data (259 Genes with 346 GO IDs)"
   ]
  },
  {
   "cell_type": "code",
   "execution_count": 4,
   "metadata": {},
   "outputs": [
    {
     "data": {
      "text/html": [
       "<div>\n",
       "<style>\n",
       "    .dataframe thead tr:only-child th {\n",
       "        text-align: right;\n",
       "    }\n",
       "\n",
       "    .dataframe thead th {\n",
       "        text-align: left;\n",
       "    }\n",
       "\n",
       "    .dataframe tbody tr th {\n",
       "        vertical-align: top;\n",
       "    }\n",
       "</style>\n",
       "<table border=\"1\" class=\"dataframe\">\n",
       "  <thead>\n",
       "    <tr style=\"text-align: right;\">\n",
       "      <th></th>\n",
       "      <th>GeneID</th>\n",
       "      <th>GOID</th>\n",
       "      <th>GOTerms</th>\n",
       "    </tr>\n",
       "  </thead>\n",
       "  <tbody>\n",
       "    <tr>\n",
       "      <th>342</th>\n",
       "      <td>MG_126</td>\n",
       "      <td>GO:0006436</td>\n",
       "      <td>tryptophanyl-tRNA aminoacylation</td>\n",
       "    </tr>\n",
       "    <tr>\n",
       "      <th>343</th>\n",
       "      <td>MG_455</td>\n",
       "      <td>GO:0006437</td>\n",
       "      <td>tyrosyl-tRNA aminoacylation</td>\n",
       "    </tr>\n",
       "    <tr>\n",
       "      <th>344</th>\n",
       "      <td>MG_030</td>\n",
       "      <td>GO:0044206</td>\n",
       "      <td>UMP salvage</td>\n",
       "    </tr>\n",
       "    <tr>\n",
       "      <th>345</th>\n",
       "      <td>MG_030</td>\n",
       "      <td>GO:0006223</td>\n",
       "      <td>uracil salvage</td>\n",
       "    </tr>\n",
       "    <tr>\n",
       "      <th>346</th>\n",
       "      <td>MG_334</td>\n",
       "      <td>GO:0006438</td>\n",
       "      <td>valyl-tRNA aminoacylation</td>\n",
       "    </tr>\n",
       "  </tbody>\n",
       "</table>\n",
       "</div>"
      ],
      "text/plain": [
       "     GeneID        GOID                           GOTerms\n",
       "342  MG_126  GO:0006436  tryptophanyl-tRNA aminoacylation\n",
       "343  MG_455  GO:0006437       tyrosyl-tRNA aminoacylation\n",
       "344  MG_030  GO:0044206                       UMP salvage\n",
       "345  MG_030  GO:0006223                    uracil salvage\n",
       "346  MG_334  GO:0006438         valyl-tRNA aminoacylation"
      ]
     },
     "execution_count": 4,
     "metadata": {},
     "output_type": "execute_result"
    }
   ],
   "source": [
    "import pandas as pd\n",
    "df = pd.read_csv('GObaseline.txt', sep=\"\\t\")\n",
    "df.tail(5)"
   ]
  },
  {
   "cell_type": "markdown",
   "metadata": {},
   "source": [
    "Read in -140 gene deletion list as a 1D vertical dataframe, convert to a list."
   ]
  },
  {
   "cell_type": "code",
   "execution_count": 5,
   "metadata": {},
   "outputs": [
    {
     "name": "stdout",
     "output_type": "stream",
     "text": [
      "['MG_012', 'MG_014', 'MG_015', 'MG_020', 'MG_027', 'MG_029', 'MG_030', 'MG_033', 'MG_040', 'MG_046', 'MG_048', 'MG_050', 'MG_052', 'MG_055', 'MG_059', 'MG_061', 'MG_062', 'MG_063', 'MG_064', 'MG_065', 'MG_072', 'MG_075', 'MG_083', 'MG_085', 'MG_086', 'MG_097', 'MG_101', 'MG_476', 'MG_105', 'MG_109', 'MG_110', 'MG_119', 'MG_120', 'MG_121', 'MG_123', 'MG_127', 'MG_130', 'MG_132', 'MG_139', 'MG_143', 'MG_149', 'MG_170', 'MG_172', 'MG_183', 'MG_184', 'MG_187', 'MG_188', 'MG_189', 'MG_190', 'MG_191', 'MG_192', 'MG_200', 'MG_205', 'MG_208', 'MG_209', 'MG_210', 'MG_482', 'MG_213', 'MG_214', 'MG_217', 'MG_218', 'MG_225', 'MG_226', 'MG_227', 'MG_235', 'MG_236', 'MG_240', 'MG_312', 'MG_316', 'MG_317', 'MG_318', 'MG_324', 'MG_327', 'MG_329', 'MG_333', 'MG_336', 'MG_244', 'MG_252', 'MG_259', 'MG_262', 'MG_498', 'MG_264', 'MG_265', 'MG_277', 'MG_399', 'MG_401', 'MG_403', 'MG_404', 'MG_405', 'MG_408', 'MG_409', 'MG_410', 'MG_411', 'MG_425', 'MG_339', 'MG_344', 'MG_346', 'MG_352', 'MG_355', 'MG_356', 'MG_358', 'MG_359', 'MG_370', 'MG_376', 'MG_380', 'MG_385', 'MG_386', 'MG_390', 'MG_392', 'MG_393', 'MG_398', 'MG_438', 'MG_442', 'MG_447', 'MG_448', 'MG_454', 'MG_457', 'MG_460', 'MG_463', 'MG_464', 'MG_467', 'MG_468', 'MG_526', 'MG_239', 'MG_288', 'MG_293', 'MG_309', 'MG_428', 'MG_073', 'MG_186', 'MG_297', 'MG_335', 'MG_349', 'MG_353', 'MG_369', 'MG_391', 'MG_402', 'MG_412', 'MG_421']\n"
     ]
    }
   ],
   "source": [
    "df2 = pd.read_csv('140deletions.txt', sep=\"\\t\")\n",
    "df2.columns = ['a']\n",
    "deletionlist = df2['a'].values.tolist()\n",
    "print(deletionlist)"
   ]
  },
  {
   "cell_type": "markdown",
   "metadata": {},
   "source": [
    "Make a dataframe by comparing the baseline and -140 deletion lists.\n",
    "Those GeneIDs in the baseline AND not in the 140 list are kept in the new list.\n",
    "Export the new list to a CSV."
   ]
  },
  {
   "cell_type": "code",
   "execution_count": 6,
   "metadata": {},
   "outputs": [
    {
     "data": {
      "text/html": [
       "<div>\n",
       "<style>\n",
       "    .dataframe thead tr:only-child th {\n",
       "        text-align: right;\n",
       "    }\n",
       "\n",
       "    .dataframe thead th {\n",
       "        text-align: left;\n",
       "    }\n",
       "\n",
       "    .dataframe tbody tr th {\n",
       "        vertical-align: top;\n",
       "    }\n",
       "</style>\n",
       "<table border=\"1\" class=\"dataframe\">\n",
       "  <thead>\n",
       "    <tr style=\"text-align: right;\">\n",
       "      <th></th>\n",
       "      <th>GeneID</th>\n",
       "      <th>GOID</th>\n",
       "      <th>GOTerms</th>\n",
       "    </tr>\n",
       "  </thead>\n",
       "  <tbody>\n",
       "    <tr>\n",
       "      <th>338</th>\n",
       "      <td>MG_465</td>\n",
       "      <td>GO:0008033</td>\n",
       "      <td>tRNA processing</td>\n",
       "    </tr>\n",
       "    <tr>\n",
       "      <th>341</th>\n",
       "      <td>MG_379</td>\n",
       "      <td>GO:0002098</td>\n",
       "      <td>tRNA wobble uridine modification</td>\n",
       "    </tr>\n",
       "    <tr>\n",
       "      <th>342</th>\n",
       "      <td>MG_126</td>\n",
       "      <td>GO:0006436</td>\n",
       "      <td>tryptophanyl-tRNA aminoacylation</td>\n",
       "    </tr>\n",
       "    <tr>\n",
       "      <th>343</th>\n",
       "      <td>MG_455</td>\n",
       "      <td>GO:0006437</td>\n",
       "      <td>tyrosyl-tRNA aminoacylation</td>\n",
       "    </tr>\n",
       "    <tr>\n",
       "      <th>346</th>\n",
       "      <td>MG_334</td>\n",
       "      <td>GO:0006438</td>\n",
       "      <td>valyl-tRNA aminoacylation</td>\n",
       "    </tr>\n",
       "  </tbody>\n",
       "</table>\n",
       "</div>"
      ],
      "text/plain": [
       "     GeneID        GOID                           GOTerms\n",
       "338  MG_465  GO:0008033                   tRNA processing\n",
       "341  MG_379  GO:0002098  tRNA wobble uridine modification\n",
       "342  MG_126  GO:0006436  tryptophanyl-tRNA aminoacylation\n",
       "343  MG_455  GO:0006437       tyrosyl-tRNA aminoacylation\n",
       "346  MG_334  GO:0006438         valyl-tRNA aminoacylation"
      ]
     },
     "execution_count": 6,
     "metadata": {},
     "output_type": "execute_result"
    }
   ],
   "source": [
    "df3 = df[~df['GeneID'].isin(deletionlist)]\n",
    "df3.to_csv('140delsvsGOBaseline.txt', sep='\\t')\n",
    "df3.tail(5)"
   ]
  }
 ],
 "metadata": {
  "kernelspec": {
   "display_name": "Python 3.6",
   "language": "python",
   "name": "python36"
  },
  "language_info": {
   "codemirror_mode": {
    "name": "ipython",
    "version": 3
   },
   "file_extension": ".py",
   "mimetype": "text/x-python",
   "name": "python",
   "nbconvert_exporter": "python",
   "pygments_lexer": "ipython3",
   "version": "3.6.3"
  }
 },
 "nbformat": 4,
 "nbformat_minor": 2
}
